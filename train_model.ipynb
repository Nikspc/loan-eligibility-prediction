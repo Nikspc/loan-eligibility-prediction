{
 "cells": [
  {
   "cell_type": "code",
   "execution_count": 1,
   "id": "0d11fd86",
   "metadata": {
    "vscode": {
     "languageId": "plaintext"
    }
   },
   "outputs": [
    {
     "name": "stdout",
     "output_type": "stream",
     "text": [
      "Model saved successfully!\n"
     ]
    },
    {
     "name": "stderr",
     "output_type": "stream",
     "text": [
      "C:\\A1\\Interview projects\\loan_eligibility_app\\venv\\Lib\\site-packages\\sklearn\\linear_model\\_logistic.py:465: ConvergenceWarning: lbfgs failed to converge (status=1):\n",
      "STOP: TOTAL NO. OF ITERATIONS REACHED LIMIT.\n",
      "\n",
      "Increase the number of iterations (max_iter) or scale the data as shown in:\n",
      "    https://scikit-learn.org/stable/modules/preprocessing.html\n",
      "Please also refer to the documentation for alternative solver options:\n",
      "    https://scikit-learn.org/stable/modules/linear_model.html#logistic-regression\n",
      "  n_iter_i = _check_optimize_result(\n"
     ]
    }
   ],
   "source": [
    "import pandas as pd\n",
    "import numpy as np\n",
    "from sklearn.model_selection import train_test_split\n",
    "from sklearn.linear_model import LogisticRegression\n",
    "import joblib\n",
    "\n",
    "# Simulated dataset\n",
    "data = {\n",
    "    'age': np.random.randint(20, 60, 500),\n",
    "    'income': np.random.randint(20000, 150000, 500),\n",
    "    'employment_status': np.random.choice(['Employed', 'Unemployed', 'Self-employed'], 500),\n",
    "    'credit_score': np.random.randint(300, 850, 500),\n",
    "    'existing_loans': np.random.randint(0, 5, 500),\n",
    "}\n",
    "\n",
    "df = pd.DataFrame(data)\n",
    "# Simple rule for eligibility\n",
    "df['eligible'] = np.where(\n",
    "    (df['income'] > 50000) & \n",
    "    (df['credit_score'] > 600) &\n",
    "    (df['employment_status'] != 'Unemployed'),\n",
    "    1, 0\n",
    ")\n",
    "\n",
    "# Encoding employment_status manually\n",
    "df['employment_status_encoded'] = df['employment_status'].map({\n",
    "    'Employed': 0,\n",
    "    'Self-employed': 1,\n",
    "    'Unemployed': 2\n",
    "})\n",
    "\n",
    "# Features and target\n",
    "X = df[['age', 'income', 'employment_status_encoded', 'credit_score', 'existing_loans']]\n",
    "y = df['eligible']\n",
    "\n",
    "# Train-test split\n",
    "X_train, X_test, y_train, y_test = train_test_split(X, y, test_size=0.2)\n",
    "\n",
    "# Model\n",
    "model = LogisticRegression()\n",
    "model.fit(X_train, y_train)\n",
    "\n",
    "# Save model\n",
    "joblib.dump(model, 'model.pkl')\n",
    "print(\"Model saved successfully!\")\n"
   ]
  },
  {
   "cell_type": "code",
   "execution_count": null,
   "id": "fca2952c-fb3a-4189-95cb-e2ee4c334ba9",
   "metadata": {},
   "outputs": [],
   "source": []
  }
 ],
 "metadata": {
  "kernelspec": {
   "display_name": "Python 3 (ipykernel)",
   "language": "python",
   "name": "python3"
  },
  "language_info": {
   "codemirror_mode": {
    "name": "ipython",
    "version": 3
   },
   "file_extension": ".py",
   "mimetype": "text/x-python",
   "name": "python",
   "nbconvert_exporter": "python",
   "pygments_lexer": "ipython3",
   "version": "3.13.3"
  }
 },
 "nbformat": 4,
 "nbformat_minor": 5
}
